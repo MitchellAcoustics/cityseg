{
 "cells": [
  {
   "cell_type": "markdown",
   "metadata": {},
   "source": [
    "# Processing a Single Image\n",
    "\n",
    "This notebook demonstrates how to use the Semantic Segmentation Pipeline to process a single image."
   ]
  },
  {
   "cell_type": "code",
   "execution_count": null,
   "metadata": {},
   "source": [
    "from cityscape_seg import Config, create_segmentation_model, create_processor\n",
    "from pathlib import Path\n",
    "\n",
    "# Assuming the config file is in the same directory as the notebook\n",
    "config_path = Path('config.yaml')\n",
    "input_image = Path('example_image.jpg')\n",
    "output_prefix = Path('output/single_image')"
   ],
   "outputs": []
  },
  {
   "cell_type": "code",
   "execution_count": null,
   "metadata": {},
   "source": [
    "# Load configuration\n",
    "config = Config.from_yaml(config_path)\n",
    "config.input = str(input_image)\n",
    "config.output_prefix = str(output_prefix)\n",
    "\n",
    "# Create model and processor\n",
    "model = create_segmentation_model(config.model.to_dict())\n",
    "processor = create_processor(config.to_dict())"
   ],
   "outputs": []
  },
  {
   "cell_type": "code",
   "execution_count": null,
   "metadata": {},
   "source": [
    "# Process the image\n",
    "processor.process()"
   ],
   "outputs": []
  },
  {
   "cell_type": "markdown",
   "metadata": {},
   "source": [
    "After running the above cells, you should find the processed output in the `output/single_image` directory."
   ]
  }
 ],
 "metadata": {
  "kernelspec": {
   "display_name": "Python 3",
   "language": "python",
   "name": "python3"
  },
  "language_info": {
   "codemirror_mode": {
    "name": "ipython",
    "version": 3
   },
   "file_extension": ".py",
   "mimetype": "text/x-python",
   "name": "python",
   "nbconvert_exporter": "python",
   "pygments_lexer": "ipython3",
   "version": "3.8.0"
  }
 },
 "nbformat": 4,
 "nbformat_minor": 4
}
